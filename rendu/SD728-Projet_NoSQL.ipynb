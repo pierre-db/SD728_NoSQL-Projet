{
 "cells": [
  {
   "cell_type": "markdown",
   "id": "0a8e8ca8",
   "metadata": {},
   "source": [
    "# Projet Bigdata 2021-2022: GDELT: Les evenements marquants de l’annee 2021\n",
    "\n",
    "Pierre Dal Bianco \\\n",
    "Aurélien Kouadio \\\n",
    "Jia Liao \\\n",
    "Pooran Shahdi \\\n",
    "Philéas Samir \\\n",
    "Gwladys Sanchez"
   ]
  },
  {
   "cell_type": "code",
   "execution_count": 1,
   "id": "e522dc41",
   "metadata": {},
   "outputs": [],
   "source": [
    "import pandas as pd\n",
    "from cassandra.cluster import Cluster"
   ]
  },
  {
   "cell_type": "code",
   "execution_count": 2,
   "id": "24ff2255",
   "metadata": {},
   "outputs": [],
   "source": [
    "cluster = Cluster(['tp-hadoop-1'])\n",
    "session = cluster.connect('test')"
   ]
  },
  {
   "cell_type": "markdown",
   "id": "dd037729",
   "metadata": {},
   "source": [
    "**Question a.** afficher le nombre d’articles/évènements qu’il y a eu pour chaque triplet (jour, pays de l’évènement, langue de l’article)."
   ]
  },
  {
   "cell_type": "code",
   "execution_count": 10,
   "id": "e8f17a78",
   "metadata": {},
   "outputs": [],
   "source": [
    "query_a = session.execute(\"SELECT * FROM table_ab;\")\n",
    "data_a = pd.DataFrame(query_a)"
   ]
  },
  {
   "cell_type": "code",
   "execution_count": 11,
   "id": "cd1328c3",
   "metadata": {},
   "outputs": [
    {
     "data": {
      "text/html": [
       "<div>\n",
       "<style scoped>\n",
       "    .dataframe tbody tr th:only-of-type {\n",
       "        vertical-align: middle;\n",
       "    }\n",
       "\n",
       "    .dataframe tbody tr th {\n",
       "        vertical-align: top;\n",
       "    }\n",
       "\n",
       "    .dataframe thead th {\n",
       "        text-align: right;\n",
       "    }\n",
       "</style>\n",
       "<table border=\"1\" class=\"dataframe\">\n",
       "  <thead>\n",
       "    <tr style=\"text-align: right;\">\n",
       "      <th></th>\n",
       "      <th>pays</th>\n",
       "      <th>annee</th>\n",
       "      <th>mois</th>\n",
       "      <th>jour</th>\n",
       "      <th>event_id</th>\n",
       "      <th>langue</th>\n",
       "      <th>total</th>\n",
       "    </tr>\n",
       "  </thead>\n",
       "  <tbody>\n",
       "    <tr>\n",
       "      <th>0</th>\n",
       "      <td>JE</td>\n",
       "      <td>2021</td>\n",
       "      <td>202111</td>\n",
       "      <td>20211127</td>\n",
       "      <td>1020807020</td>\n",
       "      <td>eng</td>\n",
       "      <td>1</td>\n",
       "    </tr>\n",
       "    <tr>\n",
       "      <th>1</th>\n",
       "      <td>JE</td>\n",
       "      <td>2021</td>\n",
       "      <td>202111</td>\n",
       "      <td>20211129</td>\n",
       "      <td>1021093574</td>\n",
       "      <td>eng</td>\n",
       "      <td>1</td>\n",
       "    </tr>\n",
       "    <tr>\n",
       "      <th>2</th>\n",
       "      <td>JE</td>\n",
       "      <td>2021</td>\n",
       "      <td>202112</td>\n",
       "      <td>20211221</td>\n",
       "      <td>1020962681</td>\n",
       "      <td>eng</td>\n",
       "      <td>4</td>\n",
       "    </tr>\n",
       "    <tr>\n",
       "      <th>3</th>\n",
       "      <td>JE</td>\n",
       "      <td>2021</td>\n",
       "      <td>202112</td>\n",
       "      <td>20211225</td>\n",
       "      <td>1020682973</td>\n",
       "      <td>spa</td>\n",
       "      <td>1</td>\n",
       "    </tr>\n",
       "    <tr>\n",
       "      <th>4</th>\n",
       "      <td>JE</td>\n",
       "      <td>2021</td>\n",
       "      <td>202112</td>\n",
       "      <td>20211226</td>\n",
       "      <td>1020782079</td>\n",
       "      <td>spa</td>\n",
       "      <td>1</td>\n",
       "    </tr>\n",
       "  </tbody>\n",
       "</table>\n",
       "</div>"
      ],
      "text/plain": [
       "  pays  annee    mois      jour    event_id langue  total\n",
       "0   JE   2021  202111  20211127  1020807020    eng      1\n",
       "1   JE   2021  202111  20211129  1021093574    eng      1\n",
       "2   JE   2021  202112  20211221  1020962681    eng      4\n",
       "3   JE   2021  202112  20211225  1020682973    spa      1\n",
       "4   JE   2021  202112  20211226  1020782079    spa      1"
      ]
     },
     "execution_count": 11,
     "metadata": {},
     "output_type": "execute_result"
    }
   ],
   "source": [
    "data_a.head()"
   ]
  },
  {
   "cell_type": "markdown",
   "id": "fafd61fb",
   "metadata": {},
   "source": [
    "**Question b.** pour un pays donné en paramètre, affichez les évènements qui y ont eu place triées par le nombre de mentions (tri décroissant); permettez une agrégation par jour/mois/année"
   ]
  },
  {
   "cell_type": "code",
   "execution_count": 16,
   "id": "56dd6f6a",
   "metadata": {},
   "outputs": [],
   "source": [
    "pays = 'FR'\n",
    "agregation = 'annee' # 'annee, mois' ou 'annee, mois, jour'\n",
    "\n",
    "query_b = session.execute(\n",
    "    f\"\"\"SELECT event_id, SUM(total) as compte, {agregation}\n",
    "    FROM table_ab\n",
    "    WHERE pays = '{pays}'\n",
    "    GROUP BY {agregation};\"\"\")\n",
    "data_b = pd.DataFrame(query_b).sort_values('compte')"
   ]
  },
  {
   "cell_type": "code",
   "execution_count": 17,
   "id": "67306a34",
   "metadata": {},
   "outputs": [
    {
     "data": {
      "text/html": [
       "<div>\n",
       "<style scoped>\n",
       "    .dataframe tbody tr th:only-of-type {\n",
       "        vertical-align: middle;\n",
       "    }\n",
       "\n",
       "    .dataframe tbody tr th {\n",
       "        vertical-align: top;\n",
       "    }\n",
       "\n",
       "    .dataframe thead th {\n",
       "        text-align: right;\n",
       "    }\n",
       "</style>\n",
       "<table border=\"1\" class=\"dataframe\">\n",
       "  <thead>\n",
       "    <tr style=\"text-align: right;\">\n",
       "      <th></th>\n",
       "      <th>event_id</th>\n",
       "      <th>compte</th>\n",
       "      <th>annee</th>\n",
       "    </tr>\n",
       "  </thead>\n",
       "  <tbody>\n",
       "    <tr>\n",
       "      <th>0</th>\n",
       "      <td>1020679947</td>\n",
       "      <td>18</td>\n",
       "      <td>2021</td>\n",
       "    </tr>\n",
       "  </tbody>\n",
       "</table>\n",
       "</div>"
      ],
      "text/plain": [
       "     event_id  compte  annee\n",
       "0  1020679947      18   2021"
      ]
     },
     "execution_count": 17,
     "metadata": {},
     "output_type": "execute_result"
    }
   ],
   "source": [
    "data_b.head()"
   ]
  },
  {
   "cell_type": "markdown",
   "id": "a3693131",
   "metadata": {},
   "source": [
    "**Question c.** pour une source de donnés passée en paramètre (gkg.SourceCommonName) affichez les thèmes, personnes, lieux dont les articles de cette sources parlent ainsi que le nombre d’articles et le ton moyen des articles (pour chaque thème/personne/lieu); permettez une agrégation par jour/mois/année."
   ]
  },
  {
   "cell_type": "code",
   "execution_count": 24,
   "id": "0b924ec0",
   "metadata": {},
   "outputs": [],
   "source": [
    "source = 'lemonde.fr'\n",
    "agregation = 'annee' # 'annee, mois' ou 'annee, mois, jour'\n",
    "\n",
    "query_c = session.execute(\n",
    "    f\"\"\"SELECT source, theme, personne, lieu, SUM(total) AS somme_total, SUM(somme_ton)  AS somme_ton, {agregation}\n",
    "    FROM table_c\n",
    "    WHERE source = '{source}'\n",
    "    GROUP BY theme, personne, lieu, {agregation};\"\"\")\n",
    "data_c = pd.DataFrame(query_c)\n",
    "data_c['moyenne_ton'] = data_c['somme_ton'] / data_c['somme_total'] "
   ]
  },
  {
   "cell_type": "code",
   "execution_count": 25,
   "id": "660fa22b",
   "metadata": {},
   "outputs": [
    {
     "data": {
      "text/html": [
       "<div>\n",
       "<style scoped>\n",
       "    .dataframe tbody tr th:only-of-type {\n",
       "        vertical-align: middle;\n",
       "    }\n",
       "\n",
       "    .dataframe tbody tr th {\n",
       "        vertical-align: top;\n",
       "    }\n",
       "\n",
       "    .dataframe thead th {\n",
       "        text-align: right;\n",
       "    }\n",
       "</style>\n",
       "<table border=\"1\" class=\"dataframe\">\n",
       "  <thead>\n",
       "    <tr style=\"text-align: right;\">\n",
       "      <th></th>\n",
       "      <th>source</th>\n",
       "      <th>theme</th>\n",
       "      <th>personne</th>\n",
       "      <th>lieu</th>\n",
       "      <th>somme_total</th>\n",
       "      <th>somme_ton</th>\n",
       "      <th>annee</th>\n",
       "      <th>moyenne_ton</th>\n",
       "    </tr>\n",
       "  </thead>\n",
       "  <tbody>\n",
       "    <tr>\n",
       "      <th>0</th>\n",
       "      <td>lemonde.fr</td>\n",
       "      <td>AFFECT</td>\n",
       "      <td>UNK</td>\n",
       "      <td>BM</td>\n",
       "      <td>1</td>\n",
       "      <td>-2.884615</td>\n",
       "      <td>2021</td>\n",
       "      <td>-2.884615</td>\n",
       "    </tr>\n",
       "    <tr>\n",
       "      <th>1</th>\n",
       "      <td>lemonde.fr</td>\n",
       "      <td>AFFECT</td>\n",
       "      <td>UNK</td>\n",
       "      <td>FR</td>\n",
       "      <td>1</td>\n",
       "      <td>-3.099511</td>\n",
       "      <td>2021</td>\n",
       "      <td>-3.099511</td>\n",
       "    </tr>\n",
       "    <tr>\n",
       "      <th>2</th>\n",
       "      <td>lemonde.fr</td>\n",
       "      <td>AFFECT</td>\n",
       "      <td>UNK</td>\n",
       "      <td>LE</td>\n",
       "      <td>1</td>\n",
       "      <td>-3.783784</td>\n",
       "      <td>2021</td>\n",
       "      <td>-3.783784</td>\n",
       "    </tr>\n",
       "    <tr>\n",
       "      <th>3</th>\n",
       "      <td>lemonde.fr</td>\n",
       "      <td>AFFECT</td>\n",
       "      <td>UNK</td>\n",
       "      <td>MY</td>\n",
       "      <td>1</td>\n",
       "      <td>-2.884615</td>\n",
       "      <td>2021</td>\n",
       "      <td>-2.884615</td>\n",
       "    </tr>\n",
       "    <tr>\n",
       "      <th>4</th>\n",
       "      <td>lemonde.fr</td>\n",
       "      <td>AFFECT</td>\n",
       "      <td>UNK</td>\n",
       "      <td>RP</td>\n",
       "      <td>1</td>\n",
       "      <td>-3.099511</td>\n",
       "      <td>2021</td>\n",
       "      <td>-3.099511</td>\n",
       "    </tr>\n",
       "  </tbody>\n",
       "</table>\n",
       "</div>"
      ],
      "text/plain": [
       "       source   theme personne lieu  somme_total  somme_ton  annee  \\\n",
       "0  lemonde.fr  AFFECT      UNK   BM            1  -2.884615   2021   \n",
       "1  lemonde.fr  AFFECT      UNK   FR            1  -3.099511   2021   \n",
       "2  lemonde.fr  AFFECT      UNK   LE            1  -3.783784   2021   \n",
       "3  lemonde.fr  AFFECT      UNK   MY            1  -2.884615   2021   \n",
       "4  lemonde.fr  AFFECT      UNK   RP            1  -3.099511   2021   \n",
       "\n",
       "   moyenne_ton  \n",
       "0    -2.884615  \n",
       "1    -3.099511  \n",
       "2    -3.783784  \n",
       "3    -2.884615  \n",
       "4    -3.099511  "
      ]
     },
     "execution_count": 25,
     "metadata": {},
     "output_type": "execute_result"
    }
   ],
   "source": [
    "data_c.head()"
   ]
  },
  {
   "cell_type": "markdown",
   "id": "7ec30f45",
   "metadata": {},
   "source": [
    "**Question d.** étudiez l’évolution des relations entre deux pays (specifies en paramètre) au cours de l’année. Vous pouvez vous baser sur la langue de l’article, le ton moyen des articles, les themes plus souvent citées, les personalités ou tout element qui vous semble pertinent."
   ]
  },
  {
   "cell_type": "code",
   "execution_count": 26,
   "id": "7c354b45",
   "metadata": {},
   "outputs": [],
   "source": [
    "langue = 'eng'\n",
    "lieu = 'FR'\n",
    "agregation = 'annee' # 'annee, mois' ou 'annee, mois, jour'\n",
    "\n",
    "query_d = session.execute(\n",
    "    f\"\"\"SELECT langue, lieu, SUM(total) AS somme_total, SUM(somme_ton) AS somme_ton, {agregation}\n",
    "    FROM table_d\n",
    "    WHERE langue = '{langue}' AND lieu = '{lieu}'\n",
    "    GROUP BY {agregation};\"\"\")\n",
    "data_d = pd.DataFrame(query_d)\n",
    "data_d['moyenne_ton'] = data_d['somme_ton'] / data_d['somme_total'] "
   ]
  },
  {
   "cell_type": "code",
   "execution_count": 27,
   "id": "ba582f1c",
   "metadata": {},
   "outputs": [
    {
     "data": {
      "text/html": [
       "<div>\n",
       "<style scoped>\n",
       "    .dataframe tbody tr th:only-of-type {\n",
       "        vertical-align: middle;\n",
       "    }\n",
       "\n",
       "    .dataframe tbody tr th {\n",
       "        vertical-align: top;\n",
       "    }\n",
       "\n",
       "    .dataframe thead th {\n",
       "        text-align: right;\n",
       "    }\n",
       "</style>\n",
       "<table border=\"1\" class=\"dataframe\">\n",
       "  <thead>\n",
       "    <tr style=\"text-align: right;\">\n",
       "      <th></th>\n",
       "      <th>langue</th>\n",
       "      <th>lieu</th>\n",
       "      <th>somme_total</th>\n",
       "      <th>somme_ton</th>\n",
       "      <th>annee</th>\n",
       "      <th>moyenne_ton</th>\n",
       "    </tr>\n",
       "  </thead>\n",
       "  <tbody>\n",
       "    <tr>\n",
       "      <th>0</th>\n",
       "      <td>eng</td>\n",
       "      <td>FR</td>\n",
       "      <td>21913</td>\n",
       "      <td>-19100.371912</td>\n",
       "      <td>2021</td>\n",
       "      <td>-0.871646</td>\n",
       "    </tr>\n",
       "  </tbody>\n",
       "</table>\n",
       "</div>"
      ],
      "text/plain": [
       "  langue lieu  somme_total     somme_ton  annee  moyenne_ton\n",
       "0    eng   FR        21913 -19100.371912   2021    -0.871646"
      ]
     },
     "execution_count": 27,
     "metadata": {},
     "output_type": "execute_result"
    }
   ],
   "source": [
    "data_d.head()"
   ]
  },
  {
   "cell_type": "code",
   "execution_count": 28,
   "id": "011ddf75",
   "metadata": {},
   "outputs": [],
   "source": [
    "# on ferme la session à la fin du fichier\n",
    "session.shutdown()"
   ]
  },
  {
   "cell_type": "code",
   "execution_count": null,
   "id": "e27bb635",
   "metadata": {},
   "outputs": [],
   "source": []
  }
 ],
 "metadata": {
  "kernelspec": {
   "display_name": "Python 3 (ipykernel)",
   "language": "python",
   "name": "python3"
  },
  "language_info": {
   "codemirror_mode": {
    "name": "ipython",
    "version": 3
   },
   "file_extension": ".py",
   "mimetype": "text/x-python",
   "name": "python",
   "nbconvert_exporter": "python",
   "pygments_lexer": "ipython3",
   "version": "3.8.10"
  }
 },
 "nbformat": 4,
 "nbformat_minor": 5
}
